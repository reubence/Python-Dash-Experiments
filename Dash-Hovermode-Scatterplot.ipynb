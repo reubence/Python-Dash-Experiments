{
 "cells": [
  {
   "cell_type": "code",
   "execution_count": 12,
   "metadata": {},
   "outputs": [],
   "source": [
    "import pandas as pd\n",
    "import dash\n",
    "import dash_core_components as dcc\n",
    "import dash_html_components as html\n",
    "import numpy as np\n",
    "import plotly.graph_objs as go"
   ]
  },
  {
   "cell_type": "code",
   "execution_count": 7,
   "metadata": {},
   "outputs": [
    {
     "name": "stdout",
     "output_type": "stream",
     "text": [
      "Collecting xlrd\n",
      "  Downloading https://files.pythonhosted.org/packages/b0/16/63576a1a001752e34bf8ea62e367997530dc553b689356b9879339cf45a4/xlrd-1.2.0-py2.py3-none-any.whl (103kB)\n",
      "Installing collected packages: xlrd\n",
      "Successfully installed xlrd-1.2.0\n"
     ]
    }
   ],
   "source": [
    "!pip install xlrd"
   ]
  },
  {
   "cell_type": "code",
   "execution_count": 9,
   "metadata": {},
   "outputs": [],
   "source": [
    "orders = pd.read_excel('D:/College/GITHUB REPOS/Python-Dash-Experiments/Sales.xls')"
   ]
  },
  {
   "cell_type": "code",
   "execution_count": 10,
   "metadata": {},
   "outputs": [
    {
     "data": {
      "text/html": [
       "<div>\n",
       "<style scoped>\n",
       "    .dataframe tbody tr th:only-of-type {\n",
       "        vertical-align: middle;\n",
       "    }\n",
       "\n",
       "    .dataframe tbody tr th {\n",
       "        vertical-align: top;\n",
       "    }\n",
       "\n",
       "    .dataframe thead th {\n",
       "        text-align: right;\n",
       "    }\n",
       "</style>\n",
       "<table border=\"1\" class=\"dataframe\">\n",
       "  <thead>\n",
       "    <tr style=\"text-align: right;\">\n",
       "      <th></th>\n",
       "      <th>SALES_ID</th>\n",
       "      <th>SALES_BY_REGION</th>\n",
       "      <th>JANUARY</th>\n",
       "      <th>FEBRUARY</th>\n",
       "      <th>MARCH</th>\n",
       "      <th>APRIL</th>\n",
       "      <th>MAY</th>\n",
       "      <th>JUNE</th>\n",
       "      <th>JULY</th>\n",
       "      <th>AUGUST</th>\n",
       "      <th>SEPTEMBER</th>\n",
       "      <th>OCTOBER</th>\n",
       "      <th>NOVEMBER</th>\n",
       "      <th>DECEMBER</th>\n",
       "    </tr>\n",
       "  </thead>\n",
       "  <tbody>\n",
       "    <tr>\n",
       "      <td>0</td>\n",
       "      <td>16</td>\n",
       "      <td>UAQ</td>\n",
       "      <td>n.a.</td>\n",
       "      <td>5941</td>\n",
       "      <td>3487</td>\n",
       "      <td>-1</td>\n",
       "      <td>5433</td>\n",
       "      <td>3511</td>\n",
       "      <td>2555</td>\n",
       "      <td>n.a.</td>\n",
       "      <td>1929</td>\n",
       "      <td>4285</td>\n",
       "      <td>1198</td>\n",
       "      <td>-1</td>\n",
       "    </tr>\n",
       "    <tr>\n",
       "      <td>1</td>\n",
       "      <td>10</td>\n",
       "      <td>FUJ</td>\n",
       "      <td>1085</td>\n",
       "      <td>5189</td>\n",
       "      <td>n.a.</td>\n",
       "      <td>1142</td>\n",
       "      <td>1951</td>\n",
       "      <td>3967</td>\n",
       "      <td>1993</td>\n",
       "      <td>5116</td>\n",
       "      <td>3785</td>\n",
       "      <td>2733</td>\n",
       "      <td>5686</td>\n",
       "      <td>n.a.</td>\n",
       "    </tr>\n",
       "    <tr>\n",
       "      <td>2</td>\n",
       "      <td>28</td>\n",
       "      <td>AUH</td>\n",
       "      <td>-1</td>\n",
       "      <td>1796</td>\n",
       "      <td>2472</td>\n",
       "      <td>4829</td>\n",
       "      <td>2194</td>\n",
       "      <td>-1</td>\n",
       "      <td>1142</td>\n",
       "      <td>1674</td>\n",
       "      <td>5857</td>\n",
       "      <td>1500</td>\n",
       "      <td>3219</td>\n",
       "      <td>5033</td>\n",
       "    </tr>\n",
       "    <tr>\n",
       "      <td>3</td>\n",
       "      <td>8</td>\n",
       "      <td>DXB</td>\n",
       "      <td>3490</td>\n",
       "      <td>not avilable</td>\n",
       "      <td>1317</td>\n",
       "      <td>2351</td>\n",
       "      <td>1864</td>\n",
       "      <td>n.a.</td>\n",
       "      <td>4161</td>\n",
       "      <td>1131</td>\n",
       "      <td>2173</td>\n",
       "      <td>4005</td>\n",
       "      <td>5238</td>\n",
       "      <td>1396</td>\n",
       "    </tr>\n",
       "    <tr>\n",
       "      <td>4</td>\n",
       "      <td>5</td>\n",
       "      <td>FUJ</td>\n",
       "      <td>2152</td>\n",
       "      <td>3064</td>\n",
       "      <td>3981</td>\n",
       "      <td>2958</td>\n",
       "      <td>3794</td>\n",
       "      <td>5453</td>\n",
       "      <td>3324</td>\n",
       "      <td>n.a.</td>\n",
       "      <td>1516</td>\n",
       "      <td>5640</td>\n",
       "      <td>1301</td>\n",
       "      <td>5513</td>\n",
       "    </tr>\n",
       "  </tbody>\n",
       "</table>\n",
       "</div>"
      ],
      "text/plain": [
       "   SALES_ID SALES_BY_REGION JANUARY      FEBRUARY MARCH  APRIL   MAY  JUNE  \\\n",
       "0        16             UAQ    n.a.          5941  3487     -1  5433  3511   \n",
       "1        10             FUJ    1085          5189  n.a.   1142  1951  3967   \n",
       "2        28             AUH      -1          1796  2472   4829  2194    -1   \n",
       "3         8             DXB    3490  not avilable  1317   2351  1864  n.a.   \n",
       "4         5             FUJ    2152          3064  3981   2958  3794  5453   \n",
       "\n",
       "   JULY AUGUST  SEPTEMBER OCTOBER  NOVEMBER DECEMBER  \n",
       "0  2555   n.a.       1929    4285      1198       -1  \n",
       "1  1993   5116       3785    2733      5686     n.a.  \n",
       "2  1142   1674       5857    1500      3219     5033  \n",
       "3  4161   1131       2173    4005      5238     1396  \n",
       "4  3324   n.a.       1516    5640      1301     5513  "
      ]
     },
     "execution_count": 10,
     "metadata": {},
     "output_type": "execute_result"
    }
   ],
   "source": [
    "orders.head()"
   ]
  },
  {
   "cell_type": "code",
   "execution_count": 13,
   "metadata": {},
   "outputs": [],
   "source": [
    "\n",
    "app = dash.Dash()"
   ]
  },
  {
   "cell_type": "code",
   "execution_count": 14,
   "metadata": {},
   "outputs": [],
   "source": [
    "np.random.seed(50)\n",
    "x_rand = np.random.randint(1,61,60)\n",
    "y_rand = np.random.randint(1,61,60)"
   ]
  },
  {
   "cell_type": "code",
   "execution_count": 15,
   "metadata": {},
   "outputs": [],
   "source": [
    "app.layout = html.Div([\n",
    "    dcc.Graph(\n",
    "        id = 'scatter_chart',\n",
    "        figure ={\n",
    "            'data' : [\n",
    "                go.Scatter(\n",
    "                    x = orders.SALES_ID,\n",
    "                    y = orders.JANUARY,\n",
    "                    mode = 'markers'\n",
    "                )\n",
    "            ],\n",
    "            'layout' : go.Layout(\n",
    "                title = \"Scatter Plot of Random Points\",\n",
    "                xaxis = {'title' : 'Random X-Values'},\n",
    "                yaxis = {'title' : 'Random Y-Values'}\n",
    "            )\n",
    "        }\n",
    "    )\n",
    "])"
   ]
  },
  {
   "cell_type": "code",
   "execution_count": 16,
   "metadata": {},
   "outputs": [
    {
     "name": "stdout",
     "output_type": "stream",
     "text": [
      " * Serving Flask app \"__main__\" (lazy loading)\n",
      " * Environment: production\n",
      "   WARNING: This is a development server. Do not use it in a production deployment.\n",
      "   Use a production WSGI server instead.\n",
      " * Debug mode: off\n"
     ]
    },
    {
     "name": "stderr",
     "output_type": "stream",
     "text": [
      " * Running on http://127.0.0.1:4051/ (Press CTRL+C to quit)\n",
      "127.0.0.1 - - [16/Apr/2020 18:51:30] \"\u001b[37mGET / HTTP/1.1\u001b[0m\" 200 -\n",
      "127.0.0.1 - - [16/Apr/2020 18:51:31] \"\u001b[37mGET /_dash-dependencies HTTP/1.1\u001b[0m\" 200 -\n",
      "127.0.0.1 - - [16/Apr/2020 18:51:31] \"\u001b[37mGET /_dash-layout HTTP/1.1\u001b[0m\" 200 -\n"
     ]
    }
   ],
   "source": [
    "if __name__ == '__main__':\n",
    "    app.run_server(port = 4051)"
   ]
  },
  {
   "cell_type": "code",
   "execution_count": null,
   "metadata": {},
   "outputs": [],
   "source": []
  }
 ],
 "metadata": {
  "kernelspec": {
   "display_name": "Python 3",
   "language": "python",
   "name": "python3"
  },
  "language_info": {
   "codemirror_mode": {
    "name": "ipython",
    "version": 3
   },
   "file_extension": ".py",
   "mimetype": "text/x-python",
   "name": "python",
   "nbconvert_exporter": "python",
   "pygments_lexer": "ipython3",
   "version": "3.6.7"
  }
 },
 "nbformat": 4,
 "nbformat_minor": 2
}
