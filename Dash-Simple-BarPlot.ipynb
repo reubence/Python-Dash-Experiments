{
 "cells": [
  {
   "cell_type": "code",
   "execution_count": 3,
   "metadata": {},
   "outputs": [],
   "source": [
    "import dash\n",
    "import dash_core_components as dcc\n",
    "import dash_html_components as html"
   ]
  },
  {
   "cell_type": "code",
   "execution_count": 5,
   "metadata": {},
   "outputs": [],
   "source": [
    "app = dash.Dash()"
   ]
  },
  {
   "cell_type": "code",
   "execution_count": 70,
   "metadata": {},
   "outputs": [],
   "source": [
    "colors = {\n",
    "    'text' : '#ffffff',\n",
    "    'plot_bgcolor' : '#A9A9A9',\n",
    "    'paper_bgcolor' : '#A9A9A9'\n",
    "}"
   ]
  },
  {
   "cell_type": "code",
   "execution_count": 75,
   "metadata": {},
   "outputs": [],
   "source": [
    "app.layout = html.Div([\n",
    "    html.H1(children = \"Hello Dash\",\n",
    "           style = {\n",
    "               'textAlign' : 'center',\n",
    "               'color' : '#000000'\n",
    "           }\n",
    "           ),\n",
    "    html.Div(children = \"Dash is awesome yoooo\",\n",
    "           style = {\n",
    "               'textAlign' : 'center',\n",
    "               'color' : '#000000'\n",
    "           }\n",
    "            ),\n",
    "    \n",
    "    dcc.Graph(\n",
    "        id = 'sample_graphp',\n",
    "        figure = {\n",
    "            'data':[\n",
    "                {'x':[4,6,8,10],'y':[44,55,5,77],'type':'bar','name':'Male'},\n",
    "                {'x':[4,6,8,10],'y':[23,35,55,7,],'type':'bar','name':'Female'}\n",
    "            ],\n",
    "            'layout':{\n",
    "                'plot_bgcolor' : colors['plot_bgcolor'],\n",
    "                'paper_bgcolor' : colors['paper_bgcolor'],\n",
    "                'font' : {\n",
    "                        'color' : colors['text']\n",
    "                },\n",
    "                'title' : 'Simple Bar Chart'\n",
    "            }\n",
    "        }\n",
    "    )     \n",
    "])"
   ]
  },
  {
   "cell_type": "code",
   "execution_count": 76,
   "metadata": {
    "scrolled": true
   },
   "outputs": [
    {
     "name": "stdout",
     "output_type": "stream",
     "text": [
      " * Serving Flask app \"__main__\" (lazy loading)\n",
      " * Environment: production\n",
      "   WARNING: This is a development server. Do not use it in a production deployment.\n",
      "   Use a production WSGI server instead.\n",
      " * Debug mode: off\n"
     ]
    },
    {
     "name": "stderr",
     "output_type": "stream",
     "text": [
      " * Running on http://127.0.0.1:4050/ (Press CTRL+C to quit)\n",
      "127.0.0.1 - - [16/Apr/2020 18:22:26] \"\u001b[37mGET / HTTP/1.1\u001b[0m\" 200 -\n",
      "127.0.0.1 - - [16/Apr/2020 18:22:26] \"\u001b[37mGET /_dash-layout HTTP/1.1\u001b[0m\" 200 -\n",
      "127.0.0.1 - - [16/Apr/2020 18:22:26] \"\u001b[37mGET /_dash-dependencies HTTP/1.1\u001b[0m\" 200 -\n",
      "127.0.0.1 - - [16/Apr/2020 18:22:26] \"\u001b[37mGET /_favicon.ico?v=1.11.0 HTTP/1.1\u001b[0m\" 200 -\n"
     ]
    }
   ],
   "source": [
    "if __name__ == '__main__':\n",
    "    app.run_server(port = 4050)"
   ]
  },
  {
   "cell_type": "code",
   "execution_count": null,
   "metadata": {},
   "outputs": [],
   "source": []
  },
  {
   "cell_type": "code",
   "execution_count": null,
   "metadata": {},
   "outputs": [],
   "source": [
    "`"
   ]
  }
 ],
 "metadata": {
  "kernelspec": {
   "display_name": "Python 3",
   "language": "python",
   "name": "python3"
  },
  "language_info": {
   "codemirror_mode": {
    "name": "ipython",
    "version": 3
   },
   "file_extension": ".py",
   "mimetype": "text/x-python",
   "name": "python",
   "nbconvert_exporter": "python",
   "pygments_lexer": "ipython3",
   "version": "3.6.7"
  }
 },
 "nbformat": 4,
 "nbformat_minor": 2
}
