{
 "cells": [
  {
   "cell_type": "code",
   "execution_count": 66,
   "metadata": {},
   "outputs": [],
   "source": [
    "import dash\n",
    "import dash_core_components as dcc\n",
    "import dash_html_components as html\n",
    "from datetime import datetime as dt"
   ]
  },
  {
   "cell_type": "code",
   "execution_count": 3,
   "metadata": {},
   "outputs": [],
   "source": [
    "app = dash.Dash()"
   ]
  },
  {
   "cell_type": "code",
   "execution_count": 75,
   "metadata": {},
   "outputs": [],
   "source": [
    "app.layout = html.Div([\n",
    "    html.Label('Choose a City'),\n",
    "    html.Br(),\n",
    "    dcc.Dropdown(\n",
    "    id= 'first_dropdown',\n",
    "    options = [\n",
    "        {'label' : 'Mumbai', 'value' : 'MUM'},\n",
    "        {'label' : 'Delhi', 'value' : 'DLH'},\n",
    "        {'label' : 'Tamil Nadu', 'value' : 'TNU'},\n",
    "        {'label' : 'Kerela', 'value' : 'KRL', 'disabled' : True}\n",
    "    ],\n",
    "#         value = 'MUM',\n",
    "        multi = True,\n",
    "        placeholder = 'Select a City',\n",
    "#         disabled = True\n",
    "        \n",
    "    ),\n",
    "    html.Br(),\n",
    "    html.Label('This is a slider'),\n",
    "    dcc.Slider(\n",
    "        min = 1,\n",
    "        max = 10,\n",
    "        value = 5,\n",
    "        marks = {i: i for i in range(11)},\n",
    "        step = 0.5\n",
    "    ),\n",
    "    html.Br(),\n",
    "    html.Label('This is a range slider'),\n",
    "    dcc.RangeSlider(\n",
    "        min = 1,\n",
    "        max = 10,\n",
    "        value = [3,7],\n",
    "        marks = {i: i for i in range(11)},\n",
    "        step = 0.5        \n",
    "    ),\n",
    "    html.Br(),\n",
    "    html.Label(\"this is input box\"),\n",
    "    dcc.Input(\n",
    "        placeholder = 'Input your name',\n",
    "        type = 'text',\n",
    "        value = ''\n",
    "    ),\n",
    "    html.Br(),\n",
    "    html.Br(),\n",
    "    dcc.Textarea(\n",
    "       placeholder = 'Input your feedback',\n",
    "        value = '',\n",
    "        style = {'width' : \"100%\"}\n",
    "    ), \n",
    "    html.Br(),\n",
    "    html.Br(),\n",
    "    \n",
    "    html.Button(\"Submit\",id ='submit-form'),\n",
    "    html.Br(),\n",
    "    html.Br(),\n",
    "    dcc.Checklist(\n",
    "        options = [\n",
    "        {'label' : 'Mumbai', 'value' : 'MUM'},\n",
    "        {'label' : 'Delhi', 'value' : 'DLH'},\n",
    "        {'label' : 'Tamil Nadu', 'value' : 'TNU'},\n",
    "        {'label' : 'Kerela', 'value' : 'KRL', 'disabled' : True}\n",
    "        ],\n",
    "        value = ['MUM', 'KRL']\n",
    "    ),\n",
    "    html.Br(),\n",
    "    html.Br(),\n",
    "    \n",
    "    dcc.RadioItems(\n",
    "        options = [\n",
    "        {'label' : 'Mumbai', 'value' : 'MUM'},\n",
    "        {'label' : 'Delhi', 'value' : 'DLH'},\n",
    "        {'label' : 'Tamil Nadu', 'value' : 'TNU'},\n",
    "        {'label' : 'Kerela', 'value' : 'KRL', 'disabled' : True}        \n",
    "        ],\n",
    "        value = \"\"\n",
    "    ), \n",
    "    html.Br(),\n",
    "    html.Br(),\n",
    "    \n",
    "    dcc.DatePickerSingle(\n",
    "        id = \"dt-pick-single\",\n",
    "        date = dt(2015,5,10)\n",
    "    ), \n",
    "    html.Br(),\n",
    "    html.Br(),\n",
    "    \n",
    "    dcc.DatePickerRange(\n",
    "        id = \"dt-pick-range\",\n",
    "        start_date = dt(2015,5,10),\n",
    "        end_date_placeholder_text = 'Select the end date'\n",
    "    ),\n",
    "    \n",
    "    dcc.Markdown(\n",
    "    '''\n",
    "### Dash and Markdown\n",
    "\n",
    "Dash apps can be written in Markdown.\n",
    "Dash uses the [CommonMark](http://commonmark.org/)\n",
    "specification of Markdown.\n",
    "Check out their [60 Second Markdown Tutorial](http://commonmark.org/help/)\n",
    "if this is your first introduction to Markdown!\n",
    "    '''\n",
    "    )\n",
    "])"
   ]
  },
  {
   "cell_type": "code",
   "execution_count": null,
   "metadata": {},
   "outputs": [
    {
     "name": "stdout",
     "output_type": "stream",
     "text": [
      " * Serving Flask app \"__main__\" (lazy loading)\n",
      " * Environment: production\n",
      "   WARNING: This is a development server. Do not use it in a production deployment.\n",
      "   Use a production WSGI server instead.\n",
      " * Debug mode: off\n"
     ]
    },
    {
     "name": "stderr",
     "output_type": "stream",
     "text": [
      " * Running on http://127.0.0.1:5044/ (Press CTRL+C to quit)\n",
      "127.0.0.1 - - [16/Apr/2020 21:23:30] \"\u001b[37mGET / HTTP/1.1\u001b[0m\" 200 -\n",
      "127.0.0.1 - - [16/Apr/2020 21:23:30] \"\u001b[37mGET /_dash-layout HTTP/1.1\u001b[0m\" 200 -\n",
      "127.0.0.1 - - [16/Apr/2020 21:23:30] \"\u001b[37mGET /_dash-dependencies HTTP/1.1\u001b[0m\" 200 -\n",
      "127.0.0.1 - - [16/Apr/2020 21:23:30] \"\u001b[37mGET /_favicon.ico?v=1.11.0 HTTP/1.1\u001b[0m\" 200 -\n",
      "127.0.0.1 - - [16/Apr/2020 21:23:30] \"\u001b[37mGET /_dash-component-suites/dash_core_components/async-markdown.v1_9_1m1586525729.js HTTP/1.1\u001b[0m\" 200 -\n",
      "127.0.0.1 - - [16/Apr/2020 21:23:31] \"\u001b[37mGET /_dash-component-suites/dash_core_components/async-highlight.v1_9_1m1586525729.js HTTP/1.1\u001b[0m\" 200 -\n"
     ]
    }
   ],
   "source": [
    "if __name__ == '__main__':\n",
    "    app.run_server(port = 5044)"
   ]
  },
  {
   "cell_type": "code",
   "execution_count": null,
   "metadata": {},
   "outputs": [],
   "source": []
  }
 ],
 "metadata": {
  "kernelspec": {
   "display_name": "Python 3",
   "language": "python",
   "name": "python3"
  },
  "language_info": {
   "codemirror_mode": {
    "name": "ipython",
    "version": 3
   },
   "file_extension": ".py",
   "mimetype": "text/x-python",
   "name": "python",
   "nbconvert_exporter": "python",
   "pygments_lexer": "ipython3",
   "version": "3.6.7"
  }
 },
 "nbformat": 4,
 "nbformat_minor": 2
}
